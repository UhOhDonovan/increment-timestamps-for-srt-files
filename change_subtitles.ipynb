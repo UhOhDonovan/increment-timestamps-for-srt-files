{
 "cells": [
  {
   "cell_type": "code",
   "execution_count": 1,
   "metadata": {},
   "outputs": [],
   "source": [
    "import re\n",
    "from datetime import datetime, timedelta\n",
    "from pathlib import Path"
   ]
  },
  {
   "cell_type": "code",
   "execution_count": 18,
   "metadata": {},
   "outputs": [],
   "source": [
    "subtitle_path = Path(input(\"insert subtitle path here\")).resolve()\n",
    "subtitle_file = open(subtitle_path, mode='r')\n",
    "N = timedelta(seconds=int(input(\"insert time increment\")))\n",
    "pattern = r\"(\\d{2}:\\d{2}:\\d{2},\\d{3}) --> (\\d{2}:\\d{2}:\\d{2},\\d{3})\""
   ]
  },
  {
   "cell_type": "code",
   "execution_count": 19,
   "metadata": {},
   "outputs": [],
   "source": [
    "def time_str_to_datetime(time_str):\n",
    "    return datetime.strptime(time_str, '%H:%M:%S,%f')\n",
    "\n",
    "# Function to convert datetime object back to time string\n",
    "def datetime_to_time_str(dt: datetime):\n",
    "    return dt.strftime('%H:%M:%S,%f')[:-3]"
   ]
  },
  {
   "cell_type": "code",
   "execution_count": 20,
   "metadata": {},
   "outputs": [],
   "source": [
    "subtitle_file.seek(0)\n",
    "adjusted_subtitles = []\n",
    "timing_line = False\n",
    "for index, line in enumerate(subtitle_file.readlines()):\n",
    "    if timing_line == True:\n",
    "        match = re.search(pattern, line)\n",
    "\n",
    "        time1_str = match.group(1)\n",
    "        time2_str = match.group(2)\n",
    "\n",
    "        time1 = time_str_to_datetime(time1_str)\n",
    "        time2 = time_str_to_datetime(time2_str)\n",
    "\n",
    "        new_time1 = time1 + N\n",
    "        new_time2 = time2 + N\n",
    "\n",
    "        new_time1_str = datetime_to_time_str(new_time1)\n",
    "        new_time2_str = datetime_to_time_str(new_time2)\n",
    "\n",
    "        new_input_string = f\"{new_time1_str} --> {new_time2_str}\\n\"\n",
    "\n",
    "        adjusted_subtitles.append(new_input_string)\n",
    "\n",
    "        timing_line = False\n",
    "    elif line.strip().isdigit() or index == 0:\n",
    "        adjusted_subtitles.append(line)\n",
    "        timing_line = True\n",
    "    else:\n",
    "        adjusted_subtitles.append(line)"
   ]
  },
  {
   "cell_type": "code",
   "execution_count": 21,
   "metadata": {},
   "outputs": [],
   "source": [
    "with open(f\"{subtitle_path.stem}-resynced.srt\", \"w\") as new_sub:\n",
    "    for line in adjusted_subtitles:\n",
    "        new_sub.write(line)\n",
    "new_sub.close()"
   ]
  }
 ],
 "metadata": {
  "kernelspec": {
   "display_name": ".venv",
   "language": "python",
   "name": "python3"
  },
  "language_info": {
   "codemirror_mode": {
    "name": "ipython",
    "version": 3
   },
   "file_extension": ".py",
   "mimetype": "text/x-python",
   "name": "python",
   "nbconvert_exporter": "python",
   "pygments_lexer": "ipython3",
   "version": "3.10.4"
  }
 },
 "nbformat": 4,
 "nbformat_minor": 2
}
